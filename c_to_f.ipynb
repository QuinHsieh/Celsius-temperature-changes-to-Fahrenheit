{
 "cells": [
  {
   "cell_type": "code",
   "execution_count": null,
   "metadata": {},
   "outputs": [],
   "source": [
    "#攝氏溫度轉換成華氏溫度\n",
    "\n",
    "tem_c = float(input(\"請輸入攝氏溫度(C)：\"))\n",
    "def tem_f (x):\n",
    "    f = x * 9 / 5 + 32\n",
    "    return print(\"華氏溫度為(F)：\", f)\n",
    "\n",
    "tem_f(tem_c)"
   ]
  }
 ],
 "metadata": {
  "kernelspec": {
   "display_name": "Python 3",
   "language": "python",
   "name": "python3"
  },
  "language_info": {
   "codemirror_mode": {
    "name": "ipython",
    "version": 3
   },
   "file_extension": ".py",
   "mimetype": "text/x-python",
   "name": "python",
   "nbconvert_exporter": "python",
   "pygments_lexer": "ipython3",
   "version": "3.7.3"
  }
 },
 "nbformat": 4,
 "nbformat_minor": 2
}
