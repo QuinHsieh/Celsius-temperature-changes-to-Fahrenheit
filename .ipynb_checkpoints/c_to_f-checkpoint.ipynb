{
 "cells": [
  {
   "cell_type": "code",
   "execution_count": null,
   "metadata": {},
   "outputs": [],
   "source": [
    "#攝氏溫度轉換成華氏溫度\n",
    "\n",
    "tem_c = float(input(\"請輸入攝氏溫度(C)：\"))\n",
    "\n",
    "def tem_f (x):\n",
    "    f = x * 9 / 5 + 32\n",
    "    return print(\"攝氏溫度(C)為：\", x, \"轉換成華氏溫度(F)為：\", f)\n",
    "\n",
    "tem_f(tem_c)"
   ]
  }
 ],
 "metadata": {
  "kernelspec": {
   "display_name": "Python 3",
   "language": "python",
   "name": "python3"
  },
  "language_info": {
   "codemirror_mode": {
    "name": "ipython",
    "version": 3
   },
   "file_extension": ".py",
   "mimetype": "text/x-python",
   "name": "python",
   "nbconvert_exporter": "python",
   "pygments_lexer": "ipython3",
   "version": "3.7.3"
  }
 },
 "nbformat": 4,
 "nbformat_minor": 2
}
